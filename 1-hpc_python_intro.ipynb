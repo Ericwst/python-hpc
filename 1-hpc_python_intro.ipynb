{
 "cells": [
  {
   "cell_type": "markdown",
   "metadata": {
    "slideshow": {
     "slide_type": "notes"
    }
   },
   "source": [
    "#  Python for Data Analysis and HPC\n",
    "## PHIT P8010 Fundamentals of High Performance Computing\n",
    "Daniel Bauer (bauer@cs.columbia.edu)\n",
    "\n",
    "February 2, 2016\n",
    "\n",
    "## Acknowledgment\n",
    "Many of the materials in this segment are courtesy of Larry Stead.\n",
    "\n",
    "## Overview\n",
    "\n",
    "Objectives: \n",
    "\n",
    "1. Introduction to Programming in Python\n",
    "2. Data Analysis with Python: \n",
    "    - *Numpy* and *pandas*\n",
    "    - Visualization with *Matplotlib*\n",
    "3. Python and HPC\n",
    "    - PBS scripts with Python.\n",
    "    - Parallelism with IPython on the HPC cluster.\n",
    "    - SMP processing with the *multiprocessing* module.\n",
    "\n",
    "Each section will take about 1h. Short breaks in between. Small lab exercises.\n",
    "\n",
    "# Part 1: Introduction to Programming in Python\n",
    "\n",
    "## Python Overview"
   ]
  },
  {
   "cell_type": "code",
   "execution_count": 104,
   "metadata": {
    "collapsed": true
   },
   "outputs": [],
   "source": [
    "import antigravity"
   ]
  },
  {
   "cell_type": "markdown",
   "metadata": {},
   "source": [
    "**What is Python?**\n",
    "- Versatile, interpreted, high-level, dynamic, programming language.\n",
    "- Multi paradigm: simple procedural programming, object-orientation and functional programming.\n",
    "- Scales well to different applications.\n",
    "- Great developer community. Easy to get help.\n",
    "- Lots of available libraries.\n",
    "- Popular in science (data analytics etc.), web development, application development, scripting language as part of other software, ...\n",
    "\n",
    "**Python design goals**\n",
    "\n",
    "Easy to learn and use:\n",
    "- automatic memory management\n",
    "- high-level built-in data structures\n",
    "- batteries included: Large standard library\n",
    "- Typically 10x faster to develop code than in Java/C++\n",
    "\n",
    "Readability:\n",
    "- intuitive syntax\n",
    "- minimal boilerplate\n",
    "\n",
    "Dynamic Behavior:\n",
    "- interpreted language\n",
    "- dynamic typing\n",
    "- introspection\n",
    "\n",
    "Portable: \n",
    "- different interpreters: *CPython, cython, Jython, IronPython, PyPy*\n",
    "\n",
    "Extendable: \n",
    "- Reusable code: Modules and Packages.\n",
    "- All of Python is open source.\n",
    "- Easy to write new modules in C.\n",
    "\n",
    "**Criticism and Misconceptions**\n",
    "- *“Python is a scripting language”*\n",
    "   - False. Python has been used as a scripting language, but it is\n",
    "also used to develop large stand-alone applications.\n",
    "- *“Python is interpreted, thus slower than running native code”*, Somewhat true, but\n",
    "  - Python can be used to ‘glue’ together native modules.\n",
    "  - Libraries are often very efficient.\n",
    "- *“Whitespaces are ugly.”*\n",
    "   - You’ll get used to it.\n",
    "- *“Dynamic typing is unsafe.”*\n",
    "Python is strongly typed and well behaved. It can deal with type errors at runtime.\n",
    "\n",
    "** When not to use Python**\n",
    "- When implementing low-level routines of CPU bound programs.\n",
    "- In large collaborative projects?\n",
    "     - Problem of dynamic typing.\n",
    "     - Needs good documentation / workflow.\n",
    "     \n",
    "    \n",
    "## Python Versions\n",
    "Two branches: \n",
    "- Python 2: Current and ultimate release: 2.7.10 \n",
    "   - Some libraries not ported to Python 3.\n",
    "- Python 3 (**used in this class**): Current release: 3.5.1 \n",
    "   - Some major changes and clean-ups\n",
    "   - Not backward compatible (often cannot execute 2.x code)\n",
    "   - Ongoing development\n",
    "   \n",
    "## Installing and Running Python on the Systems Biology Cluster   \n",
    "Connect to cluster. \n",
    "\n",
    "> ssh [username]@login.c2b2.columbia.edu \n",
    "\n",
    "or use *Putty* on windows.\n",
    "  \n",
    "The standard Python version on the cluster is old (2.6). More up-to-date version in /nfs/apps/python. To select one of these versions as your Python environment: \n",
    "> \\$ export APPPATH=/nfs/apps  \n",
    "> \\$ export PYTHONPATH=\\$APPPATH/python/3.3.3  \n",
    "> \\$ export PATH=\\$PATH:\\$PYTHONPATH/bin  \n",
    "\n",
    "You can also add these three lines to your *.bashrc* file to make the change permanent. You can then run the interactive Python interpreter by typing \n",
    "> \\$ python3  \n",
    "> Python 3.3.3 (default, Jan 17 2014, 16:22:21)  \n",
    "> [GCC 4.4.7 20120313 (Red Hat 4.4.7-3)] on linux  \n",
    "> Type \"help\", \"copyright\", \"credits\" or \"license\" for more information.  \n",
    "> \\>\\>\\>  \n",
    "\n",
    "## Interactive Mode vs. Running Programs on the Command Line\n",
    "Type an expression on the interactive interpreter to evaluate it and produce a result"
   ]
  },
  {
   "cell_type": "code",
   "execution_count": 6,
   "metadata": {
    "collapsed": false
   },
   "outputs": [
    {
     "data": {
      "text/plain": [
       "42"
      ]
     },
     "execution_count": 6,
     "metadata": {},
     "output_type": "execute_result"
    }
   ],
   "source": [
    "7*6"
   ]
  },
  {
   "cell_type": "markdown",
   "metadata": {},
   "source": [
    "We can also assign result to variables and reuse them. Once defined, variables are valid througout the session."
   ]
  },
  {
   "cell_type": "code",
   "execution_count": 7,
   "metadata": {
    "collapsed": false
   },
   "outputs": [
    {
     "data": {
      "text/plain": [
       "23"
      ]
     },
     "execution_count": 7,
     "metadata": {},
     "output_type": "execute_result"
    }
   ],
   "source": [
    "x = 7*6\n",
    "y = x - 19\n",
    "y"
   ]
  },
  {
   "cell_type": "markdown",
   "metadata": {},
   "source": [
    "*IPython* (the environment you are reading this in) is another type of interactive environment.  \n",
    "\n",
    "Alternatively we can safe a program in a file (with the suffix .py) and run it from the shell.\n",
    "\n",
    "> \\$ nano cube.py  \n",
    "> \\$ python3 cube.py"
   ]
  },
  {
   "cell_type": "code",
   "execution_count": 13,
   "metadata": {
    "collapsed": false
   },
   "outputs": [
    {
     "name": "stdout",
     "output_type": "stream",
     "text": [
      "Hello World! The cube of 7 is 343\n"
     ]
    }
   ],
   "source": [
    "def cube(i):  \n",
    "  \"\"\"\n",
    "  Compute i^3\n",
    "  \"\"\"\n",
    "  return i*i*i # Compute and return the result\n",
    "\n",
    "# By the way, this is a comment. \n",
    "i=7  \n",
    "print(\"Hello World! The cube of \" + str(i) + \" is \" + str(cube(7)))  "
   ]
  },
  {
   "cell_type": "markdown",
   "metadata": {},
   "source": [
    "Other interpreters can be faster than the standard Python (notably [pypy](http://pypy.org/)).\n",
    "\n",
    "## Elementary Python Syntax - Whitespaces and Blocks\n",
    "In Python, indentation level and linebreaks are syntactically relevant!\n",
    "- Single most hated Python feature\n",
    "- Actually useful: enforces readable code.\n",
    "- Warning: Never use tab stops in Python source files.\n",
    "\n",
    "In C/C++/Java:\n",
    "\n",
    "```  \n",
    "while (x==1) {\n",
    "  if (y) { \n",
    "    f1();\n",
    "  }\n",
    "  f2(); \n",
    "}```\n",
    "\n",
    "In Python:\n",
    "```  \n",
    "while (x==1) \n",
    "..if (y)  \n",
    "....f1() \n",
    "..f2()\n",
    "```"
   ]
  },
  {
   "cell_type": "markdown",
   "metadata": {},
   "source": [
    "## Basic Data Types\n",
    "\n",
    "**Elementary types and constants**:"
   ]
  },
  {
   "cell_type": "code",
   "execution_count": 18,
   "metadata": {
    "collapsed": false
   },
   "outputs": [],
   "source": [
    "x = None # None type \n",
    "t,f = True, False # Boolean\n",
    "n = 42 # Integer\n",
    "p = 3.14 # Float"
   ]
  },
  {
   "cell_type": "markdown",
   "metadata": {},
   "source": [
    "**Container Types - Overview**:"
   ]
  },
  {
   "cell_type": "code",
   "execution_count": 21,
   "metadata": {
    "collapsed": true
   },
   "outputs": [],
   "source": [
    "s = 'Hello World' # String, sequence of characters. \n",
    "l = [1, 2, 3, 17.2, 'python', None] # List, sorted sequence of objects\n",
    "tup = ('Doe', 'Jane', 29, 'New York', True) # Tuple, immutable sorted sequence\n",
    "d = {1:'A', 2:'B', 3:'A'} # Dictionary, map from keys (1,2,3) to values (A,B,C)"
   ]
  },
  {
   "cell_type": "markdown",
   "metadata": {},
   "source": [
    "**Other types:** \n",
    "In Python everything is an object and every object has a type.\n",
    "\n",
    "* File objects  \n",
    "* Instance objects of programmer-defined classes.  \n",
    "* Functions are objects too!\n",
    "* Classes are objects too!"
   ]
  },
  {
   "cell_type": "markdown",
   "metadata": {},
   "source": [
    "## Python Memory Model\n",
    "Variables are simply names that refer to objects in memory. Variables **do not** have types, but objects do.\n"
   ]
  },
  {
   "cell_type": "code",
   "execution_count": 4,
   "metadata": {
    "collapsed": true
   },
   "outputs": [],
   "source": [
    "a = 42\n",
    "b = \"fourtytwo\"\n",
    "c = 123.1"
   ]
  },
  {
   "cell_type": "markdown",
   "metadata": {},
   "source": [
    "<img width=\"300px\" src=\"files/memory_model-0.png\">"
   ]
  },
  {
   "cell_type": "markdown",
   "metadata": {},
   "source": [
    "We can reassign variables to objects of a different type. **Dynamic typing**"
   ]
  },
  {
   "cell_type": "code",
   "execution_count": 5,
   "metadata": {
    "collapsed": true
   },
   "outputs": [],
   "source": [
    "a, b = b, a"
   ]
  },
  {
   "cell_type": "markdown",
   "metadata": {},
   "source": [
    "<img width=\"300px\" src=\"files/memory_model-1.png\">"
   ]
  },
  {
   "cell_type": "code",
   "execution_count": null,
   "metadata": {
    "collapsed": true
   },
   "outputs": [],
   "source": [
    "c = None"
   ]
  },
  {
   "cell_type": "markdown",
   "metadata": {},
   "source": [
    "<img width=\"300px\" src=\"files/memory_model-2.png\">\n",
    "When an object has no reference, it will be removed from memory by the **garbage collector**.\n",
    "<img width=\"300px\" src=\"files/memory_model-3.png\">\n",
    "\n",
    "Python has **mutable** and **immutable** objects.\n",
    "Objects of mutable types can be modified (lists, dictionaries, sets, instance objects):"
   ]
  },
  {
   "cell_type": "code",
   "execution_count": 10,
   "metadata": {
    "collapsed": false
   },
   "outputs": [
    {
     "data": {
      "text/plain": [
       "[1, 2, 3, 17.2, 'python', True]"
      ]
     },
     "execution_count": 10,
     "metadata": {},
     "output_type": "execute_result"
    }
   ],
   "source": [
    "l = [1, 2, 3, 17.2, 'python', None] # lists are mutable\n",
    "l[5] = True\n",
    "l"
   ]
  },
  {
   "cell_type": "code",
   "execution_count": 12,
   "metadata": {
    "collapsed": false
   },
   "outputs": [
    {
     "ename": "TypeError",
     "evalue": "'tuple' object does not support item assignment",
     "output_type": "error",
     "traceback": [
      "\u001b[0;31m---------------------------------------------------------------------------\u001b[0m",
      "\u001b[0;31mTypeError\u001b[0m                                 Traceback (most recent call last)",
      "\u001b[0;32m<ipython-input-12-093af35c9dbb>\u001b[0m in \u001b[0;36m<module>\u001b[0;34m()\u001b[0m\n\u001b[1;32m      1\u001b[0m \u001b[0mtup\u001b[0m \u001b[0;34m=\u001b[0m \u001b[0;34m(\u001b[0m\u001b[0;34m'Doe'\u001b[0m\u001b[0;34m,\u001b[0m \u001b[0;34m'Jane'\u001b[0m\u001b[0;34m,\u001b[0m \u001b[0;36m29\u001b[0m\u001b[0;34m,\u001b[0m \u001b[0;34m'New York'\u001b[0m\u001b[0;34m,\u001b[0m \u001b[0mTrue\u001b[0m\u001b[0;34m)\u001b[0m \u001b[0;31m# tuples are immutable\u001b[0m\u001b[0;34m\u001b[0m\u001b[0m\n\u001b[0;32m----> 2\u001b[0;31m \u001b[0mtup\u001b[0m\u001b[0;34m[\u001b[0m\u001b[0;36m0\u001b[0m\u001b[0;34m]\u001b[0m \u001b[0;34m=\u001b[0m \u001b[0;34m'Bob'\u001b[0m\u001b[0;34m\u001b[0m\u001b[0m\n\u001b[0m",
      "\u001b[0;31mTypeError\u001b[0m: 'tuple' object does not support item assignment"
     ]
    }
   ],
   "source": [
    "tup = ('Doe', 'Jane', 29, 'New York', True) # tuples are immutable\n",
    "tup[0] = 'Bob'"
   ]
  },
  {
   "cell_type": "markdown",
   "metadata": {},
   "source": [
    "Be careful when multiple variables are assigned to a mutable object! "
   ]
  },
  {
   "cell_type": "code",
   "execution_count": 14,
   "metadata": {
    "collapsed": false
   },
   "outputs": [
    {
     "data": {
      "text/plain": [
       "[1, 2, 3, 17.2, 'python', True]"
      ]
     },
     "execution_count": 14,
     "metadata": {},
     "output_type": "execute_result"
    }
   ],
   "source": [
    "l2 = l # Now l2 and l point to the same object\n",
    "l2 "
   ]
  },
  {
   "cell_type": "code",
   "execution_count": 16,
   "metadata": {
    "collapsed": false
   },
   "outputs": [
    {
     "data": {
      "text/plain": [
       "['hello', 2, 3, 17.2, 'python', True]"
      ]
     },
     "execution_count": 16,
     "metadata": {},
     "output_type": "execute_result"
    }
   ],
   "source": [
    "l[0] = 'hello'\n",
    "l2 # Because l2 points to the same object as l, the output changes."
   ]
  },
  {
   "cell_type": "markdown",
   "metadata": {},
   "source": [
    "**Object and Value Equality**  \n",
    "\n",
    "We can test if two variables are assigned to the same object."
   ]
  },
  {
   "cell_type": "code",
   "execution_count": 18,
   "metadata": {
    "collapsed": false
   },
   "outputs": [
    {
     "data": {
      "text/plain": [
       "True"
      ]
     },
     "execution_count": 18,
     "metadata": {},
     "output_type": "execute_result"
    }
   ],
   "source": [
    "l is l2"
   ]
  },
  {
   "cell_type": "code",
   "execution_count": 20,
   "metadata": {
    "collapsed": false
   },
   "outputs": [
    {
     "data": {
      "text/plain": [
       "False"
      ]
     },
     "execution_count": 20,
     "metadata": {},
     "output_type": "execute_result"
    }
   ],
   "source": [
    "l3 = ['hello',2,3,17.2,'python',True]\n",
    "l3 is l2 # Not the same objects as l2"
   ]
  },
  {
   "cell_type": "code",
   "execution_count": 21,
   "metadata": {
    "collapsed": false
   },
   "outputs": [
    {
     "data": {
      "text/plain": [
       "True"
      ]
     },
     "execution_count": 21,
     "metadata": {},
     "output_type": "execute_result"
    }
   ],
   "source": [
    "l3 == l2 # But the same value."
   ]
  },
  {
   "cell_type": "markdown",
   "metadata": {},
   "source": [
    "## Control Flow\n",
    "\n",
    "**Conditional statements:** This works similar to other languages. \n",
    "\n",
    "```\n",
    "if conditionExp1: \n",
    "  statement1\n",
    "  ...\n",
    "elif conditionExp2:\n",
    "  statement2\n",
    "  ...\n",
    "elif confitionExp3:\n",
    "  statement3\n",
    "  ...\n",
    "...\n",
    "else: \n",
    "  statement4\n",
    "```"
   ]
  },
  {
   "cell_type": "code",
   "execution_count": 35,
   "metadata": {
    "collapsed": false
   },
   "outputs": [
    {
     "name": "stdout",
     "output_type": "stream",
     "text": [
      "Hi.\n"
     ]
    }
   ],
   "source": [
    "if l3[0] == \"hello\" and b==42:\n",
    "    print(\"Hi.\")\n",
    "else: \n",
    "    print(\"Bye.\")"
   ]
  },
  {
   "cell_type": "markdown",
   "metadata": {},
   "source": [
    "Other expressions that evaluate to False: integer 0, ```None```, empty list/string/truple/dictionary/set  \n",
    "All other objects evaluate to True."
   ]
  },
  {
   "cell_type": "code",
   "execution_count": 45,
   "metadata": {
    "collapsed": false
   },
   "outputs": [
    {
     "name": "stdout",
     "output_type": "stream",
     "text": [
      "type a positive integer number:\n",
      "83\n",
      "83 is prime.\n"
     ]
    }
   ],
   "source": [
    "print('type a positive integer number:') \n",
    "n = int(input()) # Read a number\n",
    "\n",
    "if not n:\n",
    "  print('Error: n was 0.') \n",
    "elif n < 0:\n",
    "  print('Error: n is negative.') \n",
    "elif n == 1 or n == 2 or n == 3:\n",
    "  print('n is prime.') \n",
    "else:\n",
    "  if (not n % 2 or not n % 3 or not n % 5 or not n % 7): \n",
    "    print(str(n) + ' n is not prime.')\n",
    "  else:\n",
    "    print(str(n) + ' is prime.')"
   ]
  },
  {
   "cell_type": "markdown",
   "metadata": {},
   "source": [
    "Conditionals that return a value can be written more concisely as conditional expressions."
   ]
  },
  {
   "cell_type": "code",
   "execution_count": 48,
   "metadata": {
    "collapsed": false
   },
   "outputs": [
    {
     "data": {
      "text/plain": [
       "0"
      ]
     },
     "execution_count": 48,
     "metadata": {},
     "output_type": "execute_result"
    }
   ],
   "source": [
    "n=-1\n",
    "if n < 0:  \n",
    "    result = n + 1\n",
    "else: \n",
    "    result = n - 1\n",
    "result    "
   ]
  },
  {
   "cell_type": "code",
   "execution_count": 49,
   "metadata": {
    "collapsed": false
   },
   "outputs": [
    {
     "data": {
      "text/plain": [
       "0"
      ]
     },
     "execution_count": 49,
     "metadata": {},
     "output_type": "execute_result"
    }
   ],
   "source": [
    "n + 1 if n < 0 else n -1  #conditional expression"
   ]
  },
  {
   "cell_type": "markdown",
   "metadata": {},
   "source": [
    "**While loops:**\n",
    "The standard loop construction in Python is the *while* loop. *For* loops are reserved for iterators and will be discussed below. "
   ]
  },
  {
   "cell_type": "code",
   "execution_count": 52,
   "metadata": {
    "collapsed": false
   },
   "outputs": [
    {
     "name": "stdout",
     "output_type": "stream",
     "text": [
      "19\n",
      "approximate log_2: 5\n"
     ]
    }
   ],
   "source": [
    "x = int(input()) # Read a number\n",
    "\n",
    "count = 0\n",
    "while x > 0: # repeat the next block while the condition is True\n",
    "  x = x/2 \n",
    "  count += 1 \n",
    "\n",
    "print('approximate log_2: ' + str(count))"
   ]
  },
  {
   "cell_type": "code",
   "execution_count": 53,
   "metadata": {
    "collapsed": false
   },
   "outputs": [
    {
     "name": "stdout",
     "output_type": "stream",
     "text": [
      "4\n",
      "2\n",
      "0\n"
     ]
    }
   ],
   "source": [
    "x = 5\n",
    "while x:\n",
    "  x -= 1\n",
    "  if x % 2:   # x is even\n",
    "    continue # continue jumps to the next iteration of the loop, skipping remaining lines\n",
    "    print(x)"
   ]
  },
  {
   "cell_type": "code",
   "execution_count": 54,
   "metadata": {
    "collapsed": false
   },
   "outputs": [
    {
     "name": "stdout",
     "output_type": "stream",
     "text": [
      "10\n",
      "9\n",
      "8\n"
     ]
    }
   ],
   "source": [
    "x = 10\n",
    "while True:  # infinite loop\n",
    "  print(x)\n",
    "  x -= 1\n",
    "  if x == 7:\n",
    "    break"
   ]
  },
  {
   "cell_type": "markdown",
   "metadata": {},
   "source": [
    "\n",
    "## Lists, Tuples, and Dictionaries\n",
    "\n",
    "**Sequence Operations**: Objects that contain ordered sequences of elements. Strings, list, tuple. \n",
    "All support a shared set of operations."
   ]
  },
  {
   "cell_type": "code",
   "execution_count": 56,
   "metadata": {
    "collapsed": false
   },
   "outputs": [
    {
     "data": {
      "text/plain": [
       "0"
      ]
     },
     "execution_count": 56,
     "metadata": {},
     "output_type": "execute_result"
    }
   ],
   "source": [
    "lx = [1]\n",
    "ly = [2,3,4,5]\n",
    "len(x) # get length"
   ]
  },
  {
   "cell_type": "code",
   "execution_count": 57,
   "metadata": {
    "collapsed": false
   },
   "outputs": [
    {
     "data": {
      "text/plain": [
       "34"
      ]
     },
     "execution_count": 57,
     "metadata": {},
     "output_type": "execute_result"
    }
   ],
   "source": [
    "len(\"supercalifragilisticexpialidocious\") # number of chars in string"
   ]
  },
  {
   "cell_type": "code",
   "execution_count": 58,
   "metadata": {
    "collapsed": false
   },
   "outputs": [
    {
     "data": {
      "text/plain": [
       "[1, 2, 3, 4, 5]"
      ]
     },
     "execution_count": 58,
     "metadata": {},
     "output_type": "execute_result"
    }
   ],
   "source": [
    "lx + ly # concatenation, creates a NEW sequence of the same type"
   ]
  },
  {
   "cell_type": "code",
   "execution_count": 59,
   "metadata": {
    "collapsed": false
   },
   "outputs": [
    {
     "data": {
      "text/plain": [
       "[1]"
      ]
     },
     "execution_count": 59,
     "metadata": {},
     "output_type": "execute_result"
    }
   ],
   "source": [
    "lx"
   ]
  },
  {
   "cell_type": "code",
   "execution_count": 62,
   "metadata": {
    "collapsed": false
   },
   "outputs": [
    {
     "ename": "TypeError",
     "evalue": "can only concatenate list (not \"str\") to list",
     "output_type": "error",
     "traceback": [
      "\u001b[0;31m---------------------------------------------------------------------------\u001b[0m",
      "\u001b[0;31mTypeError\u001b[0m                                 Traceback (most recent call last)",
      "\u001b[0;32m<ipython-input-62-5bf4a2a2f9f1>\u001b[0m in \u001b[0;36m<module>\u001b[0;34m()\u001b[0m\n\u001b[0;32m----> 1\u001b[0;31m \u001b[0mlx\u001b[0m \u001b[0;34m+\u001b[0m \u001b[0;34m\"hi\"\u001b[0m \u001b[0;31m# does only work for sequence of the same type\u001b[0m\u001b[0;34m\u001b[0m\u001b[0m\n\u001b[0m",
      "\u001b[0;31mTypeError\u001b[0m: can only concatenate list (not \"str\") to list"
     ]
    }
   ],
   "source": [
    "lx + \"hi\" # does only work for sequence of the same type"
   ]
  },
  {
   "cell_type": "code",
   "execution_count": 61,
   "metadata": {
    "collapsed": false
   },
   "outputs": [
    {
     "data": {
      "text/plain": [
       "('A', 'A', 'A')"
      ]
     },
     "execution_count": 61,
     "metadata": {},
     "output_type": "execute_result"
    }
   ],
   "source": [
    "3 * ('A',) # Repetition"
   ]
  },
  {
   "cell_type": "code",
   "execution_count": 63,
   "metadata": {
    "collapsed": false
   },
   "outputs": [
    {
     "data": {
      "text/plain": [
       "True"
      ]
     },
     "execution_count": 63,
     "metadata": {},
     "output_type": "execute_result"
    }
   ],
   "source": [
    "3 in ly # Testing for membership"
   ]
  },
  {
   "cell_type": "code",
   "execution_count": 65,
   "metadata": {
    "collapsed": false
   },
   "outputs": [
    {
     "data": {
      "text/plain": [
       "True"
      ]
     },
     "execution_count": 65,
     "metadata": {},
     "output_type": "execute_result"
    }
   ],
   "source": [
    "'tuna' in 'fortunate' # For strings, we can also search for substrings.\n",
    "# this does not work for other sequence types."
   ]
  },
  {
   "cell_type": "code",
   "execution_count": 66,
   "metadata": {
    "collapsed": false
   },
   "outputs": [
    {
     "data": {
      "text/plain": [
       "3"
      ]
     },
     "execution_count": 66,
     "metadata": {},
     "output_type": "execute_result"
    }
   ],
   "source": [
    "'banana'.count('a') # Count number of occurences"
   ]
  },
  {
   "cell_type": "code",
   "execution_count": 67,
   "metadata": {
    "collapsed": false
   },
   "outputs": [
    {
     "data": {
      "text/plain": [
       "2"
      ]
     },
     "execution_count": 67,
     "metadata": {},
     "output_type": "execute_result"
    }
   ],
   "source": [
    "'banana'.count('an') # Number of substrings"
   ]
  },
  {
   "cell_type": "code",
   "execution_count": 68,
   "metadata": {
    "collapsed": false
   },
   "outputs": [
    {
     "data": {
      "text/plain": [
       "1"
      ]
     },
     "execution_count": 68,
     "metadata": {},
     "output_type": "execute_result"
    }
   ],
   "source": [
    "(23,5,8.5).index(5) # return the index of this element (starting at 0)"
   ]
  },
  {
   "cell_type": "markdown",
   "metadata": {},
   "source": [
    "**Sequence Indexing and Slicing**: "
   ]
  },
  {
   "cell_type": "code",
   "execution_count": null,
   "metadata": {
    "collapsed": true
   },
   "outputs": [],
   "source": []
  },
  {
   "cell_type": "code",
   "execution_count": 72,
   "metadata": {
    "collapsed": false
   },
   "outputs": [
    {
     "data": {
      "text/plain": [
       "'foo'"
      ]
     },
     "execution_count": 72,
     "metadata": {},
     "output_type": "execute_result"
    }
   ],
   "source": [
    "x = [(1, 2, 3), 'foo', 1.0]\n",
    "x[1]  # Indexing starts at 0"
   ]
  },
  {
   "cell_type": "code",
   "execution_count": 73,
   "metadata": {
    "collapsed": false
   },
   "outputs": [
    {
     "data": {
      "text/plain": [
       "3"
      ]
     },
     "execution_count": 73,
     "metadata": {},
     "output_type": "execute_result"
    }
   ],
   "source": [
    "x[0][2] # Nested indexing."
   ]
  },
  {
   "cell_type": "code",
   "execution_count": 75,
   "metadata": {
    "collapsed": false
   },
   "outputs": [
    {
     "data": {
      "text/plain": [
       "1.0"
      ]
     },
     "execution_count": 75,
     "metadata": {},
     "output_type": "execute_result"
    }
   ],
   "source": [
    "x[-1] # Reverse indexing"
   ]
  },
  {
   "cell_type": "markdown",
   "metadata": {},
   "source": [
    "Slicing returns a copy of a subsequence.\n",
    "\n",
    "* ```x[i:j]``` returns subsequence from index(inclusive) to j (exclusive)\n",
    "* ```x[i:]``` returns subsequence from index i (inclusive) to the end\n",
    "* ```x[i:]``` returns subsequence from beginning to index j (exclusive)"
   ]
  },
  {
   "cell_type": "code",
   "execution_count": 77,
   "metadata": {
    "collapsed": false
   },
   "outputs": [
    {
     "data": {
      "text/plain": [
       "[1, 2, 3, 4]"
      ]
     },
     "execution_count": 77,
     "metadata": {},
     "output_type": "execute_result"
    }
   ],
   "source": [
    "x = [0,1,2,3,4]\n",
    "x[1:]"
   ]
  },
  {
   "cell_type": "code",
   "execution_count": 78,
   "metadata": {
    "collapsed": false
   },
   "outputs": [
    {
     "data": {
      "text/plain": [
       "[0, 1, 2]"
      ]
     },
     "execution_count": 78,
     "metadata": {},
     "output_type": "execute_result"
    }
   ],
   "source": [
    "x[:-2] # Can use reverse indexing in slices"
   ]
  },
  {
   "cell_type": "code",
   "execution_count": 79,
   "metadata": {
    "collapsed": false
   },
   "outputs": [
    {
     "data": {
      "text/plain": [
       "[1, 2]"
      ]
     },
     "execution_count": 79,
     "metadata": {},
     "output_type": "execute_result"
    }
   ],
   "source": [
    "x[1:3]"
   ]
  },
  {
   "cell_type": "markdown",
   "metadata": {},
   "source": [
    "** Iterating through Sequences with for-Loops **"
   ]
  },
  {
   "cell_type": "code",
   "execution_count": 86,
   "metadata": {
    "collapsed": false
   },
   "outputs": [
    {
     "name": "stdout",
     "output_type": "stream",
     "text": [
      "2\n",
      "4\n"
     ]
    }
   ],
   "source": [
    "for x in [1,2,3,4,5]:\n",
    "  if x % 2 == 0:\n",
    "    print(x)"
   ]
  },
  {
   "cell_type": "markdown",
   "metadata": {},
   "source": [
    "The **range** function can be used to iterate through a sequence of numbers. In Python 3, the range function returns an iterator, so the sequence of numbers is not stored explicitly in memory."
   ]
  },
  {
   "cell_type": "code",
   "execution_count": 87,
   "metadata": {
    "collapsed": false
   },
   "outputs": [
    {
     "name": "stdout",
     "output_type": "stream",
     "text": [
      "0\n",
      "1\n",
      "2\n",
      "3\n",
      "4\n",
      "5\n",
      "6\n",
      "7\n",
      "8\n",
      "9\n"
     ]
    }
   ],
   "source": [
    "for x in range(10): \n",
    "  print x"
   ]
  },
  {
   "cell_type": "code",
   "execution_count": 88,
   "metadata": {
    "collapsed": false
   },
   "outputs": [
    {
     "name": "stdout",
     "output_type": "stream",
     "text": [
      "-3\n",
      "-2\n",
      "-1\n",
      "0\n",
      "1\n"
     ]
    }
   ],
   "source": [
    "for x in range(-3,2):\n",
    "  print x"
   ]
  },
  {
   "cell_type": "code",
   "execution_count": 91,
   "metadata": {
    "collapsed": false
   },
   "outputs": [
    {
     "name": "stdout",
     "output_type": "stream",
     "text": [
      "-4\n",
      "-2\n",
      "0\n",
      "2\n"
     ]
    }
   ],
   "source": [
    "for x in range(-4,4,2): # using a step parameter\n",
    "    print x"
   ]
  },
  {
   "cell_type": "markdown",
   "metadata": {},
   "source": [
    "**List Comprehensions**  \n",
    "Common task in data processing: Apply some function to each element of an iterator and produce a new list (mapping, filtering). Python supports a special notation for this."
   ]
  },
  {
   "cell_type": "code",
   "execution_count": 92,
   "metadata": {
    "collapsed": false
   },
   "outputs": [
    {
     "data": {
      "text/plain": [
       "[2, 6, 4, 18, 8, 24, 16]"
      ]
     },
     "execution_count": 92,
     "metadata": {},
     "output_type": "execute_result"
    }
   ],
   "source": [
    "v = [1,3,2,9,4,12,8]\n",
    "[x*2 for x in v]"
   ]
  },
  {
   "cell_type": "code",
   "execution_count": 94,
   "metadata": {
    "collapsed": false
   },
   "outputs": [
    {
     "data": {
      "text/plain": [
       "[9, 12, 8]"
      ]
     },
     "execution_count": 94,
     "metadata": {},
     "output_type": "execute_result"
    }
   ],
   "source": [
    "[x for x in v if x > 5] # with a filter condition"
   ]
  },
  {
   "cell_type": "code",
   "execution_count": 99,
   "metadata": {
    "collapsed": false
   },
   "outputs": [
    {
     "data": {
      "text/plain": [
       "['odd', 'odd', 2, 'odd', 4, 12, 8]"
      ]
     },
     "execution_count": 99,
     "metadata": {},
     "output_type": "execute_result"
    }
   ],
   "source": [
    "[x if x % 2==0 else \"odd\" for x in v] # using conditional expressions in comprehensions"
   ]
  },
  {
   "cell_type": "code",
   "execution_count": 98,
   "metadata": {
    "collapsed": false
   },
   "outputs": [
    {
     "data": {
      "text/plain": [
       "[(1, 'a'), (1, 'b'), (2, 'a'), (2, 'b')]"
      ]
     },
     "execution_count": 98,
     "metadata": {},
     "output_type": "execute_result"
    }
   ],
   "source": [
    "[(a,b) for a in range(1,3) for b in ['a','b']] # multiple for statements are nested"
   ]
  },
  {
   "cell_type": "markdown",
   "metadata": {},
   "source": [
    "**Other list operations**: Lists have a number of operations not supported by other sequence types.  \n",
    "\n",
    "Lists are mutable and can be modified:"
   ]
  },
  {
   "cell_type": "code",
   "execution_count": 113,
   "metadata": {
    "collapsed": false
   },
   "outputs": [
    {
     "data": {
      "text/plain": [
       "['apples', 'oranges']"
      ]
     },
     "execution_count": 113,
     "metadata": {},
     "output_type": "execute_result"
    }
   ],
   "source": [
    "a = ['apples', 'pears']\n",
    "a[1] = 'oranges'\n",
    "a"
   ]
  },
  {
   "cell_type": "code",
   "execution_count": 114,
   "metadata": {
    "collapsed": false
   },
   "outputs": [
    {
     "data": {
      "text/plain": [
       "['apples', 'oranges', 'bananas']"
      ]
     },
     "execution_count": 114,
     "metadata": {},
     "output_type": "execute_result"
    }
   ],
   "source": [
    "a.append('bananas') # adding to a list\n",
    "a"
   ]
  },
  {
   "cell_type": "code",
   "execution_count": 115,
   "metadata": {
    "collapsed": false
   },
   "outputs": [
    {
     "data": {
      "text/plain": [
       "'bananas'"
      ]
     },
     "execution_count": 115,
     "metadata": {},
     "output_type": "execute_result"
    }
   ],
   "source": [
    "x = a.pop() # remove last element from the list and return it.\n",
    "# Lists can be used as Stacks\n",
    "x"
   ]
  },
  {
   "cell_type": "code",
   "execution_count": 116,
   "metadata": {
    "collapsed": false
   },
   "outputs": [
    {
     "data": {
      "text/plain": [
       "['apples', 'oranges']"
      ]
     },
     "execution_count": 116,
     "metadata": {},
     "output_type": "execute_result"
    }
   ],
   "source": [
    "a"
   ]
  },
  {
   "cell_type": "code",
   "execution_count": 119,
   "metadata": {
    "collapsed": false
   },
   "outputs": [
    {
     "data": {
      "text/plain": [
       "['apple', 'banana', 'orange']"
      ]
     },
     "execution_count": 119,
     "metadata": {},
     "output_type": "execute_result"
    }
   ],
   "source": [
    "l = ['apple', 'orange', 'banana', 'orange']\n",
    "l.remove('orange') # remove first occurence\n",
    "l"
   ]
  },
  {
   "cell_type": "code",
   "execution_count": 120,
   "metadata": {
    "collapsed": false
   },
   "outputs": [
    {
     "data": {
      "text/plain": [
       "['orange', 'banana', 'apple']"
      ]
     },
     "execution_count": 120,
     "metadata": {},
     "output_type": "execute_result"
    }
   ],
   "source": [
    "l.reverse()\n",
    "l"
   ]
  },
  {
   "cell_type": "code",
   "execution_count": 122,
   "metadata": {
    "collapsed": false
   },
   "outputs": [
    {
     "data": {
      "text/plain": [
       "['apple', 'banana', 'orange']"
      ]
     },
     "execution_count": 122,
     "metadata": {},
     "output_type": "execute_result"
    }
   ],
   "source": [
    "l.sort() # sort the list (in this case alphabetically)\n",
    "l"
   ]
  },
  {
   "cell_type": "markdown",
   "metadata": {},
   "source": [
    "**Dictionaries**\n",
    "\n",
    "A dictionary is a collections of objects (values) indexed by *unique* keys.\n",
    "This data structure is extremely powerful and one of the reasons why Python is great for data analysis.\n",
    "\n",
    "*Important:* Cannot use lists and dictionaries (or other mutable objects) as keys."
   ]
  },
  {
   "cell_type": "code",
   "execution_count": 123,
   "metadata": {
    "collapsed": false
   },
   "outputs": [
    {
     "data": {
      "text/plain": [
       "4"
      ]
     },
     "execution_count": 123,
     "metadata": {},
     "output_type": "execute_result"
    }
   ],
   "source": [
    "legs = {'cat':4, 'human':2, 'centipede':100}  # animals are keys (unique), numbers are values.\n",
    "legs['cat'] # indexing by key"
   ]
  },
  {
   "cell_type": "code",
   "execution_count": 125,
   "metadata": {
    "collapsed": false
   },
   "outputs": [
    {
     "data": {
      "text/plain": [
       "{'cat': 4, 'centipede': 100, 'human': 2, 'python': 0}"
      ]
     },
     "execution_count": 125,
     "metadata": {},
     "output_type": "execute_result"
    }
   ],
   "source": [
    "legs['python'] = 0 # adding a new key/value pair into the dictionary\n",
    "legs"
   ]
  },
  {
   "cell_type": "code",
   "execution_count": 129,
   "metadata": {
    "collapsed": false
   },
   "outputs": [
    {
     "data": {
      "text/plain": [
       "{'cat': 4, 'centipede': 30, 'human': 2, 'python': 0}"
      ]
     },
     "execution_count": 129,
     "metadata": {},
     "output_type": "execute_result"
    }
   ],
   "source": [
    "legs['centipede'] = 30 # overwriting value for a key\n",
    "legs"
   ]
  },
  {
   "cell_type": "markdown",
   "metadata": {},
   "source": [
    "A very common pattern is to iterate through all keys in the dictionary to do something with the values."
   ]
  },
  {
   "cell_type": "code",
   "execution_count": 131,
   "metadata": {
    "collapsed": false
   },
   "outputs": [
    {
     "name": "stdout",
     "output_type": "stream",
     "text": [
      "A python has 0 legs.\n",
      "A centipede has 30 legs.\n",
      "A human has 2 legs.\n",
      "A cat has 4 legs.\n"
     ]
    }
   ],
   "source": [
    "for key in legs: \n",
    "   print('A '+ key + ' has ' + str(legs[key]) + ' legs.')"
   ]
  },
  {
   "cell_type": "markdown",
   "metadata": {},
   "source": [
    "### Exercises 1\n",
    "1 - Use two nested for loops to compute the value \n",
    "of expressions of the form (a[1]+...+a[m])*(b[1]+...+b[n]).\n",
    "For example for a = [1, 2, 4] and b = [2,3] the result should be 35."
   ]
  },
  {
   "cell_type": "code",
   "execution_count": 134,
   "metadata": {
    "collapsed": true
   },
   "outputs": [],
   "source": [
    "a = [1,2,4]\n",
    "b = [2,3]"
   ]
  },
  {
   "cell_type": "code",
   "execution_count": null,
   "metadata": {
    "collapsed": true
   },
   "outputs": [],
   "source": []
  },
  {
   "cell_type": "markdown",
   "metadata": {},
   "source": [
    "2 - In the following list, every tuple describes a part-time employee in the format \n",
    "```(name, hours_worked_this_week, hourly_wage)```. Write a single list comprehension that produces a list of tuples in the format ```(name, total_pay)```, where ```total_pay``` is the product of ```hours_worked_this_week``` and ```hourly_wage```."
   ]
  },
  {
   "cell_type": "code",
   "execution_count": 140,
   "metadata": {
    "collapsed": false
   },
   "outputs": [],
   "source": [
    "employees = [('Bob', 40, 18.25), ('Mary', 10, 20.00), ('John', 0, 100.90), ('Carl', 19, 17.21), ('Meg', 60, 22.10)]\n",
    "expected_result = [('Bob', 730.0),('Mary', 200.0),('John', 0.0),('Carl', 326.99),('Meg', 1326.0)]"
   ]
  },
  {
   "cell_type": "code",
   "execution_count": null,
   "metadata": {
    "collapsed": false
   },
   "outputs": [],
   "source": []
  },
  {
   "cell_type": "markdown",
   "metadata": {},
   "source": [
    "3 - Given the following dictionary mapping ruits to their color, write a program that creates a dictionary that maps colors to lists of fruits with this color. Hint: Make sure to initialize lists before you add fruits to them."
   ]
  },
  {
   "cell_type": "code",
   "execution_count": 142,
   "metadata": {
    "collapsed": true
   },
   "outputs": [],
   "source": [
    "fruit_to_color = {'banana':'yellow',\n",
    "                  'blueberry':'blue',\n",
    "                  'cherry':'red',\n",
    "                  'lemon':'yellow',\n",
    "                  'kiwi':'green',\n",
    "                  'strawberry':'red',\n",
    "                  'tomato':'red'}"
   ]
  },
  {
   "cell_type": "code",
   "execution_count": 149,
   "metadata": {
    "collapsed": false
   },
   "outputs": [],
   "source": [
    "expected_result = {'blue': ['blueberry'],\n",
    "                   'green': ['kiwi'],\n",
    "                   'red': ['tomato', 'cherry', 'strawberry'],\n",
    "                   'yellow': ['lemon', 'banana']}"
   ]
  },
  {
   "cell_type": "code",
   "execution_count": null,
   "metadata": {
    "collapsed": true
   },
   "outputs": [],
   "source": []
  },
  {
   "cell_type": "markdown",
   "metadata": {},
   "source": [
    "## Strings\n",
    "\n",
    "Much of the data you will process comes as Strings. Even numeric data needs to be converted from strings. In addition to all sequence operation, Python supports a number of additional operations on strings.\n",
    "\n",
    "Strings can be defined using single or double quotes."
   ]
  },
  {
   "cell_type": "code",
   "execution_count": 150,
   "metadata": {
    "collapsed": false
   },
   "outputs": [
    {
     "data": {
      "text/plain": [
       "\"Hello 'world'\""
      ]
     },
     "execution_count": 150,
     "metadata": {},
     "output_type": "execute_result"
    }
   ],
   "source": [
    "\"Hello 'world'\""
   ]
  },
  {
   "cell_type": "code",
   "execution_count": 151,
   "metadata": {
    "collapsed": false
   },
   "outputs": [
    {
     "data": {
      "text/plain": [
       "'Hello, \"world\"'"
      ]
     },
     "execution_count": 151,
     "metadata": {},
     "output_type": "execute_result"
    }
   ],
   "source": [
    "'Hello, \"world\"'"
   ]
  },
  {
   "cell_type": "code",
   "execution_count": 152,
   "metadata": {
    "collapsed": false
   },
   "outputs": [
    {
     "data": {
      "text/plain": [
       "'Hpc'"
      ]
     },
     "execution_count": 152,
     "metadata": {},
     "output_type": "execute_result"
    }
   ],
   "source": [
    "'hpc'.capitalize()"
   ]
  },
  {
   "cell_type": "code",
   "execution_count": 153,
   "metadata": {
    "collapsed": false
   },
   "outputs": [
    {
     "data": {
      "text/plain": [
       "'HPC'"
      ]
     },
     "execution_count": 153,
     "metadata": {},
     "output_type": "execute_result"
    }
   ],
   "source": [
    "'hpc'.upper() "
   ]
  },
  {
   "cell_type": "code",
   "execution_count": 154,
   "metadata": {
    "collapsed": false
   },
   "outputs": [
    {
     "data": {
      "text/plain": [
       "'hpc'"
      ]
     },
     "execution_count": 154,
     "metadata": {},
     "output_type": "execute_result"
    }
   ],
   "source": [
    "'HpC'.lower() # commonly used for normalization"
   ]
  },
  {
   "cell_type": "code",
   "execution_count": 155,
   "metadata": {
    "collapsed": false
   },
   "outputs": [
    {
     "data": {
      "text/plain": [
       "True"
      ]
     },
     "execution_count": 155,
     "metadata": {},
     "output_type": "execute_result"
    }
   ],
   "source": [
    "'python'.startswith('py')"
   ]
  },
  {
   "cell_type": "code",
   "execution_count": 156,
   "metadata": {
    "collapsed": false
   },
   "outputs": [
    {
     "data": {
      "text/plain": [
       "True"
      ]
     },
     "execution_count": 156,
     "metadata": {},
     "output_type": "execute_result"
    }
   ],
   "source": [
    "'python'.endswith('on')"
   ]
  },
  {
   "cell_type": "markdown",
   "metadata": {},
   "source": [
    "**Splitting and joining**"
   ]
  },
  {
   "cell_type": "code",
   "execution_count": 158,
   "metadata": {
    "collapsed": false
   },
   "outputs": [
    {
     "data": {
      "text/plain": [
       "'python,java,lisp,haskell'"
      ]
     },
     "execution_count": 158,
     "metadata": {},
     "output_type": "execute_result"
    }
   ],
   "source": [
    "langs = \"python,java,lisp,haskell\"\n",
    "langs"
   ]
  },
  {
   "cell_type": "code",
   "execution_count": 159,
   "metadata": {
    "collapsed": false
   },
   "outputs": [
    {
     "data": {
      "text/plain": [
       "['python', 'java', 'lisp', 'haskell']"
      ]
     },
     "execution_count": 159,
     "metadata": {},
     "output_type": "execute_result"
    }
   ],
   "source": [
    "langs.split(',') # Split the string on the ',' character"
   ]
  },
  {
   "cell_type": "code",
   "execution_count": 163,
   "metadata": {
    "collapsed": false
   },
   "outputs": [
    {
     "name": "stdout",
     "output_type": "stream",
     "text": [
      "An African \t or European\n",
      " swallow?\n"
     ]
    }
   ],
   "source": [
    "q = \"An African \\t or European\\n swallow?\"\n",
    "print(q)"
   ]
  },
  {
   "cell_type": "code",
   "execution_count": 165,
   "metadata": {
    "collapsed": false
   },
   "outputs": [
    {
     "data": {
      "text/plain": [
       "['An', 'African', 'or', 'European', 'swallow?']"
      ]
     },
     "execution_count": 165,
     "metadata": {},
     "output_type": "execute_result"
    }
   ],
   "source": [
    "q.split() #Default: split on white spaces, including tabstops, linebreaks "
   ]
  },
  {
   "cell_type": "code",
   "execution_count": 168,
   "metadata": {
    "collapsed": false
   },
   "outputs": [
    {
     "data": {
      "text/plain": [
       "'A,B,C'"
      ]
     },
     "execution_count": 168,
     "metadata": {},
     "output_type": "execute_result"
    }
   ],
   "source": [
    "data = ['A','B','C']\n",
    "','.join(data) # Good for producing CSV (comma separated value) files."
   ]
  },
  {
   "cell_type": "code",
   "execution_count": 171,
   "metadata": {
    "collapsed": false
   },
   "outputs": [
    {
     "data": {
      "text/plain": [
       "'27,5.1,female,True'"
      ]
     },
     "execution_count": 171,
     "metadata": {},
     "output_type": "execute_result"
    }
   ],
   "source": [
    "data = [27, 5.1, 'female', True]  # Careful: All entries need to be strings\n",
    "','.join( [str(x) for x in data] )"
   ]
  },
  {
   "cell_type": "markdown",
   "metadata": {},
   "source": [
    "##File I/O\n",
    "\n",
    "To read and write from and to a file, it first needs to be opened. \n",
    "\n",
    "The value of f is a file handler object (an instance of class \\_io.TextIOWrapper)\n",
    " that we can call read and write methods on."
   ]
  },
  {
   "cell_type": "code",
   "execution_count": 5,
   "metadata": {
    "collapsed": true
   },
   "outputs": [],
   "source": [
    "f = open('testfile.txt', 'w') # open the file for writing\n",
    "f.write(\"Hello world!\\n\") #write something to the file.\n",
    "f.write(\"Hi!\\n\") #write something to the file.\n",
    "f.close() # close the file"
   ]
  },
  {
   "cell_type": "markdown",
   "metadata": {},
   "source": [
    "'w' is the mode in which the file is opened. \n",
    "\n",
    "* 'r' = read\n",
    "* 'w' = write (overwrite entire file if it exist)\n",
    "* 'a' = apend (open file to append at the end)\n",
    "\n"
   ]
  },
  {
   "cell_type": "markdown",
   "metadata": {},
   "source": [
    "For larger binary files, the file handler should be buffered. This can be specified by appending 'b' to the mode flag."
   ]
  },
  {
   "cell_type": "code",
   "execution_count": 7,
   "metadata": {
    "collapsed": true
   },
   "outputs": [],
   "source": [
    "f = open('data.bin', 'wb')\n",
    "f.close()"
   ]
  },
  {
   "cell_type": "markdown",
   "metadata": {},
   "source": [
    "**Reading from a file**: "
   ]
  },
  {
   "cell_type": "code",
   "execution_count": 8,
   "metadata": {
    "collapsed": false
   },
   "outputs": [
    {
     "name": "stdout",
     "output_type": "stream",
     "text": [
      "Hello world!\n",
      "\n",
      "Hi!\n",
      "\n"
     ]
    }
   ],
   "source": [
    "f = open('testfile.txt', 'r') # open file for reading\n",
    "line = f.readline()\n",
    "while line: \n",
    "    print(line)\n",
    "    line = f.readline()\n",
    "f.close()"
   ]
  },
  {
   "cell_type": "code",
   "execution_count": 9,
   "metadata": {
    "collapsed": false
   },
   "outputs": [
    {
     "name": "stdout",
     "output_type": "stream",
     "text": [
      "Hello world!\n",
      "\n",
      "Hi!\n",
      "\n"
     ]
    }
   ],
   "source": [
    "f = open('testfile.txt','r')\n",
    "for line in f:  # this is easier for text files\n",
    "    print(line)\n",
    "f.close()"
   ]
  },
  {
   "cell_type": "code",
   "execution_count": 10,
   "metadata": {
    "collapsed": false
   },
   "outputs": [
    {
     "data": {
      "text/plain": [
       "['Hello world!\\n', 'Hi!\\n']"
      ]
     },
     "execution_count": 10,
     "metadata": {},
     "output_type": "execute_result"
    }
   ],
   "source": [
    "f = open('testfile.txt','r')\n",
    "lines = f.readlines() # get all lines at once... bad for big files\n",
    "f.close()\n",
    "lines"
   ]
  },
  {
   "cell_type": "code",
   "execution_count": 12,
   "metadata": {
    "collapsed": false
   },
   "outputs": [
    {
     "data": {
      "text/plain": [
       "'Hello world!\\nHi!\\n'"
      ]
     },
     "execution_count": 12,
     "metadata": {},
     "output_type": "execute_result"
    }
   ],
   "source": [
    "f = open('testfile.txt','r')\n",
    "content = f.read() #read gets entire file\n",
    "content"
   ]
  },
  {
   "cell_type": "code",
   "execution_count": 13,
   "metadata": {
    "collapsed": false
   },
   "outputs": [
    {
     "name": "stdout",
     "output_type": "stream",
     "text": [
      "Hello\n",
      " worl\n",
      "d!\n",
      "Hi\n",
      "!\n",
      "\n"
     ]
    }
   ],
   "source": [
    "f.seek(0) # seek jumps to specific position in the file. Rarely used.\n",
    "s = f.read(5) # read 5 characters\n",
    "while s: \n",
    "    print(s)\n",
    "    s = f.read(5)\n",
    "f.close()"
   ]
  },
  {
   "cell_type": "markdown",
   "metadata": {},
   "source": [
    "**Writing to a file**:"
   ]
  },
  {
   "cell_type": "code",
   "execution_count": 14,
   "metadata": {
    "collapsed": true
   },
   "outputs": [],
   "source": [
    "f = open('testfile.txt', 'w') # open the file for writing\n",
    "f.write(\"Hello world!\\n\") #write something to the file.\n",
    "\n",
    "lines = [\"Hi\",\"world\"]\n",
    "f.writelines(lines) # write a sequence of lines\n",
    "\n",
    "f.flush() # explicitly flush the buffer, writing everything to disk\n",
    "\n",
    "f.close() # close the file, also flushes the buffer"
   ]
  },
  {
   "cell_type": "markdown",
   "metadata": {},
   "source": [
    "The following is a more elegant paradigm to open a file.\n",
    "  * Error handling.\n",
    "  * Make sure file closes correctly in any case."
   ]
  },
  {
   "cell_type": "code",
   "execution_count": 103,
   "metadata": {
    "collapsed": false
   },
   "outputs": [
    {
     "name": "stdout",
     "output_type": "stream",
     "text": [
      "Hello world!\n",
      "\n",
      "Hiworld\n"
     ]
    }
   ],
   "source": [
    "with open('testfile.txt','r') as f:\n",
    "    lines = f.readlines() # or whatever other file operation you need...\n",
    "    for l in lines: \n",
    "       print(l)"
   ]
  },
  {
   "cell_type": "markdown",
   "metadata": {},
   "source": [
    "## Functions\n",
    "A function is a subroutine that computes some result given its parameters.\n",
    "\n",
    "* More readable code: Break up code into meaningful units.\n",
    "* Avoid duplicate code.\n",
    "* Can be shared through modules.\n",
    "* Abstract away from concrete problem.\n",
    "* Powerful computational device: allow recursion"
   ]
  },
  {
   "cell_type": "code",
   "execution_count": 22,
   "metadata": {
    "collapsed": true
   },
   "outputs": [],
   "source": [
    "import math\n",
    "def pythagoras ( leg_a , leg_b ) :\n",
    "    \"\"\" \n",
    "    Compute the length of the hypotenuse\n",
    "    opposite of the right angle between leg_a\n",
    "    and leg_b .\n",
    "    \"\"\"\n",
    "    hypotenuse = math . sqrt ( leg_a **2 + leg_b **2)\n",
    "    return hypotenuse"
   ]
  },
  {
   "cell_type": "code",
   "execution_count": 23,
   "metadata": {
    "collapsed": false
   },
   "outputs": [
    {
     "data": {
      "text/plain": [
       "5.0"
      ]
     },
     "execution_count": 23,
     "metadata": {},
     "output_type": "execute_result"
    }
   ],
   "source": [
    "pythagoras(3.0, 4.0)"
   ]
  },
  {
   "cell_type": "markdown",
   "metadata": {},
   "source": [
    "Functions are objects too! This is imporant, because they can be passed to other functions."
   ]
  },
  {
   "cell_type": "code",
   "execution_count": 27,
   "metadata": {
    "collapsed": false
   },
   "outputs": [
    {
     "data": {
      "text/plain": [
       "<function __main__.pythagoras>"
      ]
     },
     "execution_count": 27,
     "metadata": {},
     "output_type": "execute_result"
    }
   ],
   "source": [
    "pythagoras"
   ]
  },
  {
   "cell_type": "code",
   "execution_count": 30,
   "metadata": {
    "collapsed": false
   },
   "outputs": [
    {
     "data": {
      "text/plain": [
       "5.0"
      ]
     },
     "execution_count": 30,
     "metadata": {},
     "output_type": "execute_result"
    }
   ],
   "source": [
    "x = pythagoras\n",
    "x(4.0,3.0)"
   ]
  },
  {
   "cell_type": "code",
   "execution_count": 36,
   "metadata": {
    "collapsed": false
   },
   "outputs": [
    {
     "data": {
      "text/plain": [
       "[(4, 'a'), (1, 'b'), (3, 'c')]"
      ]
     },
     "execution_count": 36,
     "metadata": {},
     "output_type": "execute_result"
    }
   ],
   "source": [
    "x = [(1 , 'b') ,(4 , 'a') ,(3 , 'c')]\n",
    "def compare(a,b):\n",
    "    return 1 if a[1] > b[1] else -1\n",
    "x.sort(compare)\n",
    "x"
   ]
  },
  {
   "cell_type": "code",
   "execution_count": 37,
   "metadata": {
    "collapsed": false
   },
   "outputs": [
    {
     "data": {
      "text/plain": [
       "[(4, 'a'), (1, 'b'), (3, 'c')]"
      ]
     },
     "execution_count": 37,
     "metadata": {},
     "output_type": "execute_result"
    }
   ],
   "source": [
    "x = [(1 , 'b') ,(4 , 'a') ,(3 , 'c')]\n",
    "#somewhat more readable\n",
    "def getkey(a): \n",
    "    return a[1]\n",
    "x.sort(key=getkey)\n",
    "x"
   ]
  },
  {
   "cell_type": "markdown",
   "metadata": {},
   "source": [
    "**lambda expressions** define function objects without a name (function literals)."
   ]
  },
  {
   "cell_type": "code",
   "execution_count": 38,
   "metadata": {
    "collapsed": false
   },
   "outputs": [
    {
     "data": {
      "text/plain": [
       "[(4, 'a'), (1, 'b'), (3, 'c')]"
      ]
     },
     "execution_count": 38,
     "metadata": {},
     "output_type": "execute_result"
    }
   ],
   "source": [
    "x = [(1 , 'b') ,(4 , 'a') ,(3 , 'c')]\n",
    "# even more readable\n",
    "x.sort(key=lambda a: a[1])\n",
    "x"
   ]
  },
  {
   "cell_type": "markdown",
   "metadata": {},
   "source": [
    "**recursion:** Functions can call themselves. This is an intuitive way to describe some algorithms, but has some caveats."
   ]
  },
  {
   "cell_type": "code",
   "execution_count": 42,
   "metadata": {
    "collapsed": false
   },
   "outputs": [
    {
     "data": {
      "text/plain": [
       "3628800"
      ]
     },
     "execution_count": 42,
     "metadata": {},
     "output_type": "execute_result"
    }
   ],
   "source": [
    "def fac ( n ) :\n",
    "    \"\"\" \n",
    "    Compute n !\n",
    "    \"\"\"\n",
    "    if n == 0: # base case .\n",
    "        return 1\n",
    "    else:\n",
    "        return n * fac (n -1)\n",
    "    \n",
    "fac(10)    "
   ]
  },
  {
   "cell_type": "markdown",
   "metadata": {},
   "source": [
    "## Object Oriented Programming\n",
    "\n",
    "Object Oriented Programming (OOP) is at the core of\n",
    "Python.\n",
    "* Everything is an object!\n",
    "* Operations are methods on objects.\n",
    "* Modularization.\n",
    "* We have seen examples of objects already:\n",
    "   * Objects of built-in data types (int, str, list, dict ... ).\n",
    "   * Functions.\n",
    "* Can create our own types (classes).\n",
    "* Python does not enforce OOP (unlike Java), but we need to understand at least what is going on.\n",
    "\n",
    "**Classes**: \n",
    "   * User defined types of objects (including their methods, attributes, relations to other objects).\n",
    "   * Can be instantiated into an object / is a ‘blueprint’ that describes how to build an object."
   ]
  },
  {
   "cell_type": "code",
   "execution_count": 57,
   "metadata": {
    "collapsed": false
   },
   "outputs": [],
   "source": [
    "class Knight(object):\n",
    "    \"\"\" \n",
    "    A knight with two legs ,\n",
    "    who can eat food .\n",
    "    \"\"\"\n",
    "    legs = 2 # attribute\n",
    "    \n",
    "    def __init__ (self, name): # constructor\n",
    "        self.stomach = []\n",
    "        self.name = name\n",
    "    \n",
    "    def eat(self, food): # method\n",
    "        self.stomach.append(food)\n",
    "        print('Nom nom.')        "
   ]
  },
  {
   "cell_type": "markdown",
   "metadata": {},
   "source": [
    "**Instance objects**: instances of classes. "
   ]
  },
  {
   "cell_type": "code",
   "execution_count": 58,
   "metadata": {
    "collapsed": true
   },
   "outputs": [],
   "source": [
    "lancelot = Knight(\"Lancelot\")"
   ]
  },
  {
   "cell_type": "markdown",
   "metadata": {},
   "source": [
    "**Attributes:** data fields on each instance object."
   ]
  },
  {
   "cell_type": "code",
   "execution_count": 59,
   "metadata": {
    "collapsed": false
   },
   "outputs": [
    {
     "data": {
      "text/plain": [
       "'Lancelot'"
      ]
     },
     "execution_count": 59,
     "metadata": {},
     "output_type": "execute_result"
    }
   ],
   "source": [
    "lancelot.name"
   ]
  },
  {
   "cell_type": "markdown",
   "metadata": {},
   "source": [
    "**Methods**: functions that belong to the object and can access\n",
    "and manipulate the object’s data. All Methods are attributes too."
   ]
  },
  {
   "cell_type": "code",
   "execution_count": 60,
   "metadata": {
    "collapsed": false
   },
   "outputs": [
    {
     "name": "stdout",
     "output_type": "stream",
     "text": [
      "Nom nom.\n"
     ]
    }
   ],
   "source": [
    "lancelot.eat(\"pie\")"
   ]
  },
  {
   "cell_type": "code",
   "execution_count": 61,
   "metadata": {
    "collapsed": false
   },
   "outputs": [
    {
     "data": {
      "text/plain": [
       "['pie']"
      ]
     },
     "execution_count": 61,
     "metadata": {},
     "output_type": "execute_result"
    }
   ],
   "source": [
    "lancelot.stomach"
   ]
  },
  {
   "cell_type": "code",
   "execution_count": 62,
   "metadata": {
    "collapsed": false
   },
   "outputs": [
    {
     "data": {
      "text/plain": [
       "<bound method Knight.eat of <__main__.Knight object at 0x108e29450>>"
      ]
     },
     "execution_count": 62,
     "metadata": {},
     "output_type": "execute_result"
    }
   ],
   "source": [
    "lancelot.eat"
   ]
  },
  {
   "cell_type": "markdown",
   "metadata": {},
   "source": [
    "* first parameter (```self```) of a method is automatically filled in when the method is called on an instance object.\n",
    "* __init__ is a special method that is called after an instance is created (set up instance data etc.)"
   ]
  },
  {
   "cell_type": "markdown",
   "metadata": {},
   "source": [
    "**Inheritance**: \n",
    " * Classes inherit from one or more base classes.\n",
    " * Look up methods and class attributes in base classes if not found in class."
   ]
  },
  {
   "cell_type": "code",
   "execution_count": 74,
   "metadata": {
    "collapsed": false
   },
   "outputs": [
    {
     "name": "stdout",
     "output_type": "stream",
     "text": [
      "I shall seek the holy grail.\n"
     ]
    }
   ],
   "source": [
    "class Person(object): # \"object\" is the parent object of all classes.\n",
    "    \n",
    "    def __init__(self):\n",
    "        self.stomach = []\n",
    "    \n",
    "    def eat(self, food): # method\n",
    "        self.stomach.append(food)\n",
    "        print('Nom nom.')   \n",
    "        \n",
    "class Knight(Person): #inherit from Person\n",
    "    \n",
    "    def __init__(self):\n",
    "        super(Knight, self).__init__()\n",
    "    \n",
    "    def go_on_quest(self):\n",
    "        print('I shall seek the holy grail.')\n",
    "\n",
    "lancelot = Knight() \n",
    "lancelot.go_on_quest()"
   ]
  },
  {
   "cell_type": "code",
   "execution_count": 76,
   "metadata": {
    "collapsed": false
   },
   "outputs": [
    {
     "name": "stdout",
     "output_type": "stream",
     "text": [
      "Nom nom.\n"
     ]
    }
   ],
   "source": [
    "lancelot.eat('coconut')"
   ]
  },
  {
   "cell_type": "markdown",
   "metadata": {},
   "source": [
    "Python classes can implement a number of **special methods** to give language-level functionality."
   ]
  },
  {
   "cell_type": "code",
   "execution_count": 85,
   "metadata": {
    "collapsed": false
   },
   "outputs": [
    {
     "name": "stdout",
     "output_type": "stream",
     "text": [
      "Lancelot (hungry)\n"
     ]
    }
   ],
   "source": [
    "class Knight(object): #inherit from Person\n",
    "    \n",
    "    def __init__(self, name):\n",
    "        self.name = name\n",
    "        self.stomach = []\n",
    "    \n",
    "    def eat(self, food):\n",
    "        self.stomach.append(food)\n",
    "        print(\"Nom nom.\")\n",
    "        \n",
    "    def __str__(self): # special method that converts this object into a string\n",
    "        return self.name + (\" (hungry)\" if not self.stomach else \"\")\n",
    "    \n",
    "lancelot = Knight(\"Lancelot\")    \n",
    "print(lancelot) # calls str(lancelot) implicitly, which calls __str__"
   ]
  },
  {
   "cell_type": "code",
   "execution_count": 86,
   "metadata": {
    "collapsed": false
   },
   "outputs": [
    {
     "name": "stdout",
     "output_type": "stream",
     "text": [
      "Nom nom.\n",
      "Lancelot\n"
     ]
    }
   ],
   "source": [
    "lancelot.eat('cookie')\n",
    "print(lancelot)"
   ]
  },
  {
   "cell_type": "code",
   "execution_count": 87,
   "metadata": {
    "collapsed": false
   },
   "outputs": [
    {
     "data": {
      "text/plain": [
       "<__main__.Knight at 0x108e3d650>"
      ]
     },
     "execution_count": 87,
     "metadata": {},
     "output_type": "execute_result"
    }
   ],
   "source": [
    "lancelot # default representation for an instance"
   ]
  },
  {
   "cell_type": "code",
   "execution_count": 88,
   "metadata": {
    "collapsed": true
   },
   "outputs": [],
   "source": [
    "class Knight(object): #inherit from Person\n",
    "    \n",
    "    def __init__(self, name):\n",
    "        self.name = name\n",
    "        self.stomach = []\n",
    "    \n",
    "    def eat(self, food):\n",
    "        self.stomach.append(food)\n",
    "        print(\"Nom nom.\")\n",
    "        \n",
    "    def __repr__(self): # representation for this object to be displayed in the interactive interpreter    \n",
    "        return self.name + (\" (hungry)\" if not self.stomach else \"\")"
   ]
  },
  {
   "cell_type": "code",
   "execution_count": 90,
   "metadata": {
    "collapsed": false
   },
   "outputs": [
    {
     "data": {
      "text/plain": [
       "Lancelot (hungry)"
      ]
     },
     "execution_count": 90,
     "metadata": {},
     "output_type": "execute_result"
    }
   ],
   "source": [
    "l = Knight(\"Lancelot\")\n",
    "l"
   ]
  },
  {
   "cell_type": "markdown",
   "metadata": {},
   "source": [
    "## Modules and Packages"
   ]
  },
  {
   "cell_type": "markdown",
   "metadata": {},
   "source": [
    "* Python programs can consist of multiple modules (in multiple files).\n",
    "* Independent groupings of code and data.\n",
    "* Can be re-used in other programs.\n",
    "* Can depend on other modules recursively.\n",
    "* So far we have used a single module:\n",
    "   * Used the interpreter’s interactive mode.\n",
    "   * Written single-file python programs.\n",
    "* We have seen example modules: sys, antigravity, ..."
   ]
  },
  {
   "cell_type": "markdown",
   "metadata": {},
   "source": [
    "** Structure of a module **:\n",
    "* A module corresponds to any Python source file (no special syntax).\n",
    "* The module ‘name’ is typically in file ‘name.py’.\n",
    "* File can contain class and function definitions, code.\n",
    "* Can contain a doc string (string in first nonempty line)."
   ]
  },
  {
   "cell_type": "markdown",
   "metadata": {},
   "source": [
    "```\n",
    "\"\"\" \n",
    "A module to illustrate modules. in file example_module.py\n",
    "\"\"\"\n",
    "class A (object):\n",
    "  def __init__ ( self , * args ) :\n",
    "    self.args = args\n",
    "\n",
    "  def quadruple ( x ) :\n",
    "    return x **4\n",
    "\n",
    "x = 42\n",
    "print (\" This is an example module .\")```"
   ]
  },
  {
   "cell_type": "markdown",
   "metadata": {},
   "source": [
    "** Imports **:"
   ]
  },
  {
   "cell_type": "code",
   "execution_count": 93,
   "metadata": {
    "collapsed": false
   },
   "outputs": [
    {
     "name": "stdout",
     "output_type": "stream",
     "text": [
      " This is an example module .\n"
     ]
    }
   ],
   "source": [
    "import example_module # will run all the code at top level"
   ]
  },
  {
   "cell_type": "code",
   "execution_count": 94,
   "metadata": {
    "collapsed": false
   },
   "outputs": [
    {
     "data": {
      "text/plain": [
       "42"
      ]
     },
     "execution_count": 94,
     "metadata": {},
     "output_type": "execute_result"
    }
   ],
   "source": [
    "example_module.x"
   ]
  },
  {
   "cell_type": "code",
   "execution_count": 96,
   "metadata": {
    "collapsed": false
   },
   "outputs": [
    {
     "data": {
      "text/plain": [
       "<example_module.A at 0x108e32550>"
      ]
     },
     "execution_count": 96,
     "metadata": {},
     "output_type": "execute_result"
    }
   ],
   "source": [
    "a = example_module.A()\n",
    "a"
   ]
  },
  {
   "cell_type": "markdown",
   "metadata": {},
   "source": [
    "Can also import a class/function/name directly."
   ]
  },
  {
   "cell_type": "code",
   "execution_count": 99,
   "metadata": {
    "collapsed": false
   },
   "outputs": [
    {
     "data": {
      "text/plain": [
       "<example_module.A at 0x108e292d0>"
      ]
     },
     "execution_count": 99,
     "metadata": {},
     "output_type": "execute_result"
    }
   ],
   "source": [
    "from example_module import A\n",
    "a = A()\n",
    "a"
   ]
  },
  {
   "cell_type": "markdown",
   "metadata": {},
   "source": [
    "**Main Functions:**\n",
    "   * Problem: Modules often contain some test code that we do\n",
    "     not want to run every time it is imported.\n",
    "   * Modules contain a special attribute ```name```\n",
    "   * ```name == 'main'``` if this module is the first one loaded\n",
    "    (i.e. passed to the interpreter on the command line).\n",
    "   * Always use the following main function idiom:\n",
    "   \n",
    "```\n",
    "def main () :\n",
    "   ...\n",
    "\n",
    "if __name__ == \" __main__ :\n",
    "   main ()\n",
    "```   "
   ]
  },
  {
   "cell_type": "markdown",
   "metadata": {},
   "source": [
    "**Packages**:\n",
    "  * Packages are modules that contain other modules as\n",
    "attributes.\n",
    "  * Packages allow you to create trees of modules.\n",
    "  * A package corresponds to a directory. (i.e. the package\n",
    "graphtools.directed.tree is in the file\n",
    "graphtools/directed/tree.py).\n",
    "  * Package directories must contain a file init .py\n",
    "containing the module code (even if its empty)."
   ]
  },
  {
   "cell_type": "markdown",
   "metadata": {},
   "source": [
    "## Exercises 2\n",
    "\n",
    "The file files/WHO_first9cols.csv contains a simplified section of a data set collected by the World Health Organization, containing social, economic, health, and political indicators. (Source: http://www.exploredata.net/Downloads/WHO-Data-Set)\n",
    "\n",
    "* Write a class ```CountryInfo``` that represents each column of the data.\n",
    "* Write a function that reads the data set from a file and returns a dictionary mapping country names to their ```CountryInfo``` instances.\n",
    "* Create a list of countries sorted by population.\n",
    "* Create a list of countries with a literacy rate of less than 50%."
   ]
  },
  {
   "cell_type": "code",
   "execution_count": 27,
   "metadata": {
    "collapsed": false
   },
   "outputs": [],
   "source": [
    "class CountryInfo:\n",
    "    def __init__(self, country, cid, continent, fertility, literacy, gni, enrolmentf, enrolmentm, population):\n",
    "        self.country = country\n",
    "        self.cid = int(cid) if cid else None\n",
    "        self.continent = int(continent) if continent else None\n",
    "        self.fertility = int(fertility) if fertility else None\n",
    "        self.literacy = float(literacy) if literacy else None\n",
    "        self.gni = int(gni) if gni else None\n",
    "        self.enrolmentf = int(enrolmentf) if enrolmentf else None\n",
    "        self.enrolmentm = int(enrolmentm) if enrolmentm else None\n",
    "        self.population = int(population) if population else None\n",
    "\n",
    "countries = {}     \n",
    "with open(\"files/WHO_first9cols.csv\",'r') as data: \n",
    "    head = data.readline()\n",
    "    line = data.readline()\n",
    "    while line:        \n",
    "        countryobj = CountryInfo(*line.strip().rsplit(\",\",8))\n",
    "        countries[countryobj.country] = countryobj\n",
    "        line = data.readline()\n",
    "    "
   ]
  },
  {
   "cell_type": "markdown",
   "metadata": {},
   "source": [
    "## Resources and References\n",
    "  - Official Python documentation (2.7 and 3) http://docs.python.org/\n",
    "  - Official Python tutorial. http://docs.python.org/tutorial/\n",
    "  - Online Python Cookbook. http://code.activestate.com/recipes/langs/python/\n",
    "  - Mark Pilgrim, Dive into Python 3. http://diveintopython3.ep.io/\n",
    "  - Daniel's Fall 2014 Python class: http://www.cs.columbia.edu/~bauer/cs3101-1/lectures.html"
   ]
  },
  {
   "cell_type": "code",
   "execution_count": null,
   "metadata": {
    "collapsed": true
   },
   "outputs": [],
   "source": []
  }
 ],
 "metadata": {
  "kernelspec": {
   "display_name": "Python 2",
   "language": "python",
   "name": "python2"
  },
  "language_info": {
   "codemirror_mode": {
    "name": "ipython",
    "version": 2
   },
   "file_extension": ".py",
   "mimetype": "text/x-python",
   "name": "python",
   "nbconvert_exporter": "python",
   "pygments_lexer": "ipython2",
   "version": "2.7.11"
  }
 },
 "nbformat": 4,
 "nbformat_minor": 0
}
