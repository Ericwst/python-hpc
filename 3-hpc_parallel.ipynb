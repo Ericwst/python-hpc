{
 "cells": [
  {
   "cell_type": "markdown",
   "metadata": {},
   "source": [
    "#  Python for Data Analysis and HPC\n",
    "## PHIT P8010 Fundamentals of High Performance Computing\n",
    "Daniel Bauer (bauer@cs.columbia.edu)\n",
    "\n",
    "February 2, 2016\n",
    "\n",
    "# Part 3: Python and HPC\n",
    "\n",
    "## Faster Intepreters\n",
    "- Standard Python is often incredibly slow when compared to Java or C (though numpy and other packages are reasonably fast).\n",
    "- There are versions of Python that try to 'go faster'\n",
    "\n",
    "   * **[cython](http://docs.cython.org/src/tutorial/cython_tutorial.html)**  \n",
    "    -writes a 'C' version of your python, which in theory might run faster\n",
    "\n",
    "   *  **[PyPy](http://pypy.org/)**  \n",
    "     -uses a JIT(Just in Time Compiler), like Java has  \n",
    "     -in theory can do better than static code compiler  \n",
    "     -uses a simple garbage collector instead of reference counting  \n",
    "     -\"Numpy support is not complete\"  \n",
    "     -easy to use - just load code as usual, no preprocessing like cython  \n",
    "     -everyone uses this in practice  \n"
   ]
  },
  {
   "cell_type": "markdown",
   "metadata": {},
   "source": [
    "## Parallelization\n",
    "\n",
    "* Idea behind cluster: faster computing by parallelization.\n",
    "* Independent "
   ]
  },
  {
   "cell_type": "code",
   "execution_count": null,
   "metadata": {
    "collapsed": true
   },
   "outputs": [],
   "source": []
  }
 ],
 "metadata": {
  "kernelspec": {
   "display_name": "Python 2",
   "language": "python",
   "name": "python2"
  },
  "language_info": {
   "codemirror_mode": {
    "name": "ipython",
    "version": 2
   },
   "file_extension": ".py",
   "mimetype": "text/x-python",
   "name": "python",
   "nbconvert_exporter": "python",
   "pygments_lexer": "ipython2",
   "version": "2.7.11"
  }
 },
 "nbformat": 4,
 "nbformat_minor": 0
}
