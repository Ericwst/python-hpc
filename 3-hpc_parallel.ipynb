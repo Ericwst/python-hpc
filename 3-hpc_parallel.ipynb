{
 "cells": [
  {
   "cell_type": "markdown",
   "metadata": {},
   "source": [
    "#  Python for Data Analysis and HPC\n",
    "## PHIT P8010 Fundamentals of High Performance Computing\n",
    "Daniel Bauer (bauer@cs.columbia.edu)\n",
    "\n",
    "February 2, 2016\n",
    "\n",
    "# Part 3: Python and HPC\n",
    "\n",
    "## Faster Intepreters\n",
    "- Standard Python is often incredibly slow when compared to Java or C (though numpy and other packages are reasonably fast).\n",
    "- There are versions of Python that try to 'go faster'\n",
    "\n",
    "   * **[cython](http://docs.cython.org/src/tutorial/cython_tutorial.html)**  \n",
    "    -writes a 'C' version of your python, which in theory might run faster\n",
    "\n",
    "   *  **[PyPy](http://pypy.org/)**  \n",
    "     -uses a JIT(Just in Time Compiler), like Java has  \n",
    "     -in theory can do better than static code compiler  \n",
    "     -uses a simple garbage collector instead of reference counting  \n",
    "     -\"Numpy support is not complete\"  \n",
    "     -easy to use - just load code as usual, no preprocessing like cython  \n",
    "     -everyone uses this in practice  \n"
   ]
  },
  {
   "cell_type": "markdown",
   "metadata": {},
   "source": [
    "## Parallelization\n",
    "\n",
    "* Idea behind cluster: faster computing by parallelization.\n",
    "* Different levels of independence: \n",
    "    * Just run multiple different programs in parallel. easy (PBS script).\n",
    "    * Run the same program on different splits of the data. easy (PBS script).\n",
    "    * Different parallel processes must exchange data. hard!\n",
    "        * Need synchronyzation.\n",
    "* Network bottleneck: Transferring data is expensive, computation is cheap. \n",
    "* Use local resources as much as possible before you parallelize. \n",
    "    * Prefer local SMP over cluster-level parallelization.\n",
    "* Two models for parallelization: \n",
    "    * Shared memory\n",
    "    * Message passing (we will focus on this). \n",
    "    \n",
    "    "
   ]
  },
  {
   "cell_type": "markdown",
   "metadata": {},
   "source": [
    "## Multithreading\n",
    "\n",
    "The typical approach in most programming languages is *multithreading*.\n",
    "\n",
    "Python offers: \n",
    "- simple thread system.\n",
    "- threads run under one process and share memory\n",
    "- has some concurrent data structures, like queues, locks, semaphores"
   ]
  },
  {
   "cell_type": "code",
   "execution_count": 5,
   "metadata": {
    "collapsed": false
   },
   "outputs": [
    {
     "name": "stdout",
     "output_type": "stream",
     "text": [
      "('count is', 0)\n",
      "('count is', 1)\n",
      "('count is', 2)\n"
     ]
    }
   ],
   "source": [
    "import time\n",
    "import threading\n",
    "\n",
    "def counter(n):\n",
    "    for j in range(n):\n",
    "        print('count is', j)\n",
    "        time.sleep(1)\n",
    "\n",
    "t = threading.Thread(target=counter, args=(3,))\n",
    "t.start()"
   ]
  },
  {
   "cell_type": "markdown",
   "metadata": {},
   "source": [
    "* **Problem:** The core of python is NOT concurrent.\n",
    "* Global Interpreter Lock can only be aquired by ONE thread at a time.\n",
    "* No matter how many threads you have, only ONE core will be used"
   ]
  },
  {
   "cell_type": "markdown",
   "metadata": {},
   "source": [
    "## multiprocessing"
   ]
  },
  {
   "cell_type": "markdown",
   "metadata": {},
   "source": [
    "* The multiprocessing module \"simulates\" threads by spawning multiple processes.\n",
    "* Operating system makes sure different processes use different CPU cores."
   ]
  },
  {
   "cell_type": "code",
   "execution_count": 8,
   "metadata": {
    "collapsed": false
   },
   "outputs": [
    {
     "name": "stdout",
     "output_type": "stream",
     "text": [
      "This happens in parallel.\n",
      "[42, None, 'hello']\n"
     ]
    }
   ],
   "source": [
    "from multiprocessing import Process, Queue\n",
    "\n",
    "def f(q):\n",
    "    q.put([42, None, 'hello'])\n",
    "\n",
    "if __name__ == '__main__':\n",
    "    q = Queue()\n",
    "    p = Process(target=f, args=(q,)) \n",
    "    p.start()\n",
    "    print(\"This happens in parallel.\")\n",
    "    print q.get()    # blocks. Prints \"[42, None, 'hello']\"\n",
    "    p.join()"
   ]
  },
  {
   "cell_type": "code",
   "execution_count": 7,
   "metadata": {
    "collapsed": false
   },
   "outputs": [
    {
     "name": "stdout",
     "output_type": "stream",
     "text": [
      "[1, 4, 9]\n"
     ]
    }
   ],
   "source": [
    "from multiprocessing import Pool\n",
    "\n",
    "def square(x):\n",
    "    return x*x\n",
    "\n",
    "# make a pool of 5 pythons\n",
    "# each square call will run in a separate python\n",
    "p = Pool(5)\n",
    "print(p.map(square, [1, 2, 3]))"
   ]
  },
  {
   "cell_type": "code",
   "execution_count": null,
   "metadata": {
    "collapsed": true
   },
   "outputs": [],
   "source": []
  }
 ],
 "metadata": {
  "kernelspec": {
   "display_name": "Python 2",
   "language": "python",
   "name": "python2"
  },
  "language_info": {
   "codemirror_mode": {
    "name": "ipython",
    "version": 2
   },
   "file_extension": ".py",
   "mimetype": "text/x-python",
   "name": "python",
   "nbconvert_exporter": "python",
   "pygments_lexer": "ipython2",
   "version": "2.7.11"
  }
 },
 "nbformat": 4,
 "nbformat_minor": 0
}
